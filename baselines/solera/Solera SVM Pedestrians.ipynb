{
 "cells": [
  {
   "cell_type": "code",
   "execution_count": 127,
   "id": "20224347",
   "metadata": {},
   "outputs": [],
   "source": [
    "import numpy as np\n",
    "import pickle\n",
    "import os\n",
    "\n",
    "from utils import *\n",
    "from models_solera import *"
   ]
  },
  {
   "cell_type": "code",
   "execution_count": 278,
   "id": "19fc280b",
   "metadata": {},
   "outputs": [
    {
     "name": "stdout",
     "output_type": "stream",
     "text": [
      "train_path:  data/pedestrian/zara02/split10/examples_train_unnormalized.pkl\n",
      "valid_path:  data/pedestrian/zara02/split10/examples_valid_unnormalized.pkl\n",
      "test_path:  data/pedestrian/zara02/split10/examples_test_unnormalized.pkl\n",
      "features train_path:  data/pedestrian/zara02/split10/pairwise_features_train.pkl\n",
      "features valid_path:  data/pedestrian/zara02/split10/pairwise_features_valid.pkl\n",
      "features test_path:  data/pedestrian/zara02/split10/pairwise_features_test.pkl\n",
      "train label path:  data/pedestrian/zara02/split10/clusters_train.pkl\n",
      "valid label path:  data/pedestrian/zara02/split10/clusters_valid.pkl\n",
      "test label path:  data/pedestrian/zara02/split10/clusters_test.pkl\n"
     ]
    }
   ],
   "source": [
    "folder = \"data/pedestrian/zara02/split10/\"\n",
    "train_path = os.path.join(folder, \"examples_train_unnormalized.pkl\")\n",
    "print(\"train_path: \", train_path)\n",
    "valid_path = os.path.join(folder, \"examples_valid_unnormalized.pkl\")\n",
    "print(\"valid_path: \", valid_path)\n",
    "test_path = os.path.join(folder, \"examples_test_unnormalized.pkl\")\n",
    "print(\"test_path: \", test_path)\n",
    "\n",
    "features_train_path = os.path.join(folder, \"pairwise_features_train.pkl\")\n",
    "print(\"features train_path: \", features_train_path)\n",
    "features_valid_path = os.path.join(folder, \"pairwise_features_valid.pkl\")\n",
    "print(\"features valid_path: \", features_valid_path)\n",
    "features_test_path = os.path.join(folder, \"pairwise_features_test.pkl\")\n",
    "print(\"features test_path: \", features_test_path)\n",
    "\n",
    "\n",
    "train_label_path = os.path.join(folder, \"clusters_train.pkl\")\n",
    "valid_label_path = os.path.join(folder, \"clusters_valid.pkl\")\n",
    "test_label_path = os.path.join(folder, \"clusters_test.pkl\")\n",
    "print(\"train label path: \", train_label_path)\n",
    "print(\"valid label path: \", valid_label_path)\n",
    "print(\"test label path: \", test_label_path)\n"
   ]
  },
  {
   "cell_type": "code",
   "execution_count": 279,
   "id": "5338f87a",
   "metadata": {},
   "outputs": [],
   "source": [
    "#load training, validation and test data\n",
    "with open(train_path, 'rb') as f:\n",
    "    examples_train = pickle.load(f)\n",
    "with open(valid_path, 'rb') as f:\n",
    "    examples_valid = pickle.load(f)\n",
    "with open(test_path, 'rb') as f:\n",
    "    examples_test = pickle.load(f)\n",
    "\n",
    "#load training, validation and test pairwise features\n",
    "with open(features_train_path, 'rb') as f:\n",
    "    features_train = pickle.load(f)\n",
    "with open(features_valid_path, 'rb') as f:\n",
    "    features_valid = pickle.load(f)\n",
    "with open(features_test_path, 'rb') as f:\n",
    "    features_test = pickle.load(f)\n",
    "\n",
    "    \n",
    "#load training, validation and test clusters\n",
    "with open(train_label_path, 'rb') as f:\n",
    "    clusters_train = pickle.load(f)\n",
    "with open(valid_label_path, 'rb') as f:\n",
    "    clusters_valid = pickle.load(f)\n",
    "with open(test_label_path, 'rb') as f:\n",
    "    clusters_test = pickle.load(f)"
   ]
  },
  {
   "cell_type": "code",
   "execution_count": null,
   "id": "cff6366b",
   "metadata": {},
   "outputs": [],
   "source": []
  },
  {
   "cell_type": "code",
   "execution_count": 280,
   "id": "555cefb0",
   "metadata": {},
   "outputs": [],
   "source": [
    "ground = build_ground(examples_train)"
   ]
  },
  {
   "cell_type": "code",
   "execution_count": 281,
   "id": "0061e760",
   "metadata": {},
   "outputs": [
    {
     "name": "stdout",
     "output_type": "stream",
     "text": [
      "Iteraction: 0500 current example index: 0133 Group Mitre Loss: 1.0000000000 hinge Loss: 0.9365738005\n",
      "Iteraction: 1000 current example index: 0183 Group Mitre Loss: 1.0000000000 hinge Loss: 0.7408507400\n",
      "Iteraction: 1500 current example index: 0004 Group Mitre Loss: 1.0000000000 hinge Loss: 0.9083052972\n",
      "Iteraction: 2000 current example index: 0089 Group Mitre Loss: 1.0000000000 hinge Loss: 0.8876906135\n",
      "Iteraction: 2500 current example index: 0072 Group Mitre Loss: 1.0000000000 hinge Loss: 0.8746243786\n",
      "Iteraction: 3000 current example index: 0031 Group Mitre Loss: 1.0000000000 hinge Loss: 0.8263984257\n",
      "Iteraction: 3500 current example index: 0038 Group Mitre Loss: 1.0000000000 hinge Loss: 0.8843872747\n",
      "Iteraction: 4000 current example index: 0112 Group Mitre Loss: 1.0000000000 hinge Loss: 0.8450617944\n",
      "Iteraction: 4500 current example index: 0011 Group Mitre Loss: 1.0000000000 hinge Loss: 0.8751468570\n",
      "Iteraction: 5000 current example index: 0103 Group Mitre Loss: 1.0000000000 hinge Loss: 0.8371490290\n",
      "Iteraction: 5500 current example index: 0033 Group Mitre Loss: 1.0000000000 hinge Loss: 0.8399481256\n",
      "Iteraction: 6000 current example index: 0138 Group Mitre Loss: 1.0000000000 hinge Loss: 0.9099011654\n",
      "Iteraction: 6500 current example index: 0127 Group Mitre Loss: 1.0000000000 hinge Loss: 0.8736064642\n",
      "Iteraction: 7000 current example index: 0022 Group Mitre Loss: 1.0000000000 hinge Loss: 0.8426664522\n",
      "Iteraction: 7500 current example index: 0149 Group Mitre Loss: 1.0000000000 hinge Loss: 0.8571550079\n",
      "Iteraction: 8000 current example index: 0141 Group Mitre Loss: 1.0000000000 hinge Loss: 0.9132300131\n",
      "Iteraction: 8500 current example index: 0093 Group Mitre Loss: 1.0000000000 hinge Loss: 0.9017395908\n",
      "Iteraction: 9000 current example index: 0067 Group Mitre Loss: 1.0000000000 hinge Loss: 0.9715182277\n",
      "Iteraction: 9500 current example index: 0148 Group Mitre Loss: 1.0000000000 hinge Loss: 0.8555114210\n",
      "Iteraction: 10000 current example index: 0020 Group Mitre Loss: 1.0000000000 hinge Loss: 0.8400866334\n",
      "Iteraction: 10500 current example index: 0162 Group Mitre Loss: 1.0000000000 hinge Loss: 0.8946744295\n",
      "Iteraction: 11000 current example index: 0162 Group Mitre Loss: 1.0000000000 hinge Loss: 0.8946581485\n",
      "Iteraction: 11500 current example index: 0103 Group Mitre Loss: 1.0000000000 hinge Loss: 0.8370856041\n",
      "Iteraction: 12000 current example index: 0028 Group Mitre Loss: 1.0000000000 hinge Loss: 0.8139977945\n",
      "Iteraction: 12500 current example index: 0018 Group Mitre Loss: 1.0000000000 hinge Loss: 0.8655705135\n",
      "Iteraction: 13000 current example index: 0048 Group Mitre Loss: 1.0000000000 hinge Loss: 0.7291375630\n",
      "Iteraction: 13500 current example index: 0020 Group Mitre Loss: 1.0000000000 hinge Loss: 0.8400497878\n",
      "Iteraction: 14000 current example index: 0104 Group Mitre Loss: 1.0000000000 hinge Loss: 0.8314776608\n",
      "Iteraction: 14500 current example index: 0013 Group Mitre Loss: 1.0000000000 hinge Loss: 0.8309640847\n",
      "Iteraction: 15000 current example index: 0007 Group Mitre Loss: 1.0000000000 hinge Loss: 0.8798230726\n",
      "Iteraction: 15500 current example index: 0118 Group Mitre Loss: 0.9090909091 hinge Loss: 0.6799029297\n",
      "Iteraction: 16000 current example index: 0070 Group Mitre Loss: 1.0000000000 hinge Loss: 0.9628326657\n",
      "Iteraction: 16500 current example index: 0043 Group Mitre Loss: 1.0000000000 hinge Loss: 0.8601202527\n",
      "Iteraction: 17000 current example index: 0024 Group Mitre Loss: 1.0000000000 hinge Loss: 0.8464963068\n",
      "Iteraction: 17500 current example index: 0064 Group Mitre Loss: 1.0000000000 hinge Loss: 0.9431569827\n",
      "Iteraction: 18000 current example index: 0159 Group Mitre Loss: 1.0000000000 hinge Loss: 0.8420821901\n",
      "Iteraction: 18500 current example index: 0066 Group Mitre Loss: 1.0000000000 hinge Loss: 0.9748127269\n",
      "Iteraction: 19000 current example index: 0042 Group Mitre Loss: 1.0000000000 hinge Loss: 0.7572434997\n",
      "Iteraction: 19500 current example index: 0156 Group Mitre Loss: 1.0000000000 hinge Loss: 0.8539086068\n",
      "Iteraction: 20000 current example index: 0045 Group Mitre Loss: 1.0000000000 hinge Loss: 0.7292120027\n",
      "Iteraction: 20500 current example index: 0190 Group Mitre Loss: 1.0000000000 hinge Loss: 0.7875855846\n",
      "Iteraction: 21000 current example index: 0090 Group Mitre Loss: 1.0000000000 hinge Loss: 0.8937055734\n",
      "Iteraction: 21500 current example index: 0101 Group Mitre Loss: 1.0000000000 hinge Loss: 0.8527337651\n",
      "Iteraction: 22000 current example index: 0118 Group Mitre Loss: 0.9090909091 hinge Loss: 0.6797400027\n",
      "Iteraction: 22500 current example index: 0155 Group Mitre Loss: 1.0000000000 hinge Loss: 0.8512976422\n",
      "Iteraction: 23000 current example index: 0138 Group Mitre Loss: 1.0000000000 hinge Loss: 0.9099632969\n",
      "Iteraction: 23500 current example index: 0121 Group Mitre Loss: 1.0000000000 hinge Loss: 0.8351241584\n",
      "Iteraction: 24000 current example index: 0059 Group Mitre Loss: 1.0000000000 hinge Loss: 0.9925319444\n",
      "Iteraction: 24500 current example index: 0061 Group Mitre Loss: 1.0000000000 hinge Loss: 0.9819350813\n",
      "Iteraction: 25000 current example index: 0039 Group Mitre Loss: 1.0000000000 hinge Loss: 0.8888176733\n",
      "Iteraction: 25500 current example index: 0040 Group Mitre Loss: 1.0000000000 hinge Loss: 0.8866781051\n",
      "Iteraction: 26000 current example index: 0148 Group Mitre Loss: 1.0000000000 hinge Loss: 0.8553756336\n",
      "Iteraction: 26500 current example index: 0018 Group Mitre Loss: 1.0000000000 hinge Loss: 0.8654826283\n",
      "Iteraction: 27000 current example index: 0163 Group Mitre Loss: 1.0000000000 hinge Loss: 0.8972007131\n",
      "Iteraction: 27500 current example index: 0191 Group Mitre Loss: 1.0000000000 hinge Loss: 0.8595190213\n",
      "Iteraction: 28000 current example index: 0059 Group Mitre Loss: 1.0000000000 hinge Loss: 0.9925601033\n",
      "Iteraction: 28500 current example index: 0002 Group Mitre Loss: 1.0000000000 hinge Loss: 0.8797200054\n",
      "Iteraction: 29000 current example index: 0039 Group Mitre Loss: 1.0000000000 hinge Loss: 0.8887779397\n",
      "Iteraction: 29500 current example index: 0131 Group Mitre Loss: 1.0000000000 hinge Loss: 0.8873597214\n",
      "Iteraction: 30000 current example index: 0064 Group Mitre Loss: 1.0000000000 hinge Loss: 0.9431495204\n",
      "Iteraction: 30500 current example index: 0077 Group Mitre Loss: 1.0000000000 hinge Loss: 0.9220532102\n",
      "Iteraction: 31000 current example index: 0088 Group Mitre Loss: 1.0000000000 hinge Loss: 0.8916220882\n",
      "Iteraction: 31500 current example index: 0002 Group Mitre Loss: 1.0000000000 hinge Loss: 0.8796953334\n",
      "Iteraction: 32000 current example index: 0093 Group Mitre Loss: 1.0000000000 hinge Loss: 0.9016357737\n",
      "Iteraction: 32500 current example index: 0070 Group Mitre Loss: 1.0000000000 hinge Loss: 0.9627791378\n",
      "Iteraction: 33000 current example index: 0084 Group Mitre Loss: 1.0000000000 hinge Loss: 0.8906441504\n",
      "Iteraction: 33500 current example index: 0152 Group Mitre Loss: 1.0000000000 hinge Loss: 0.7368665573\n",
      "Iteraction: 34000 current example index: 0094 Group Mitre Loss: 1.0000000000 hinge Loss: 0.9028150051\n",
      "Iteraction: 34500 current example index: 0117 Group Mitre Loss: 1.0000000000 hinge Loss: 0.8421088276\n",
      "Iteraction: 35000 current example index: 0163 Group Mitre Loss: 1.0000000000 hinge Loss: 0.8971847698\n",
      "Iteraction: 35500 current example index: 0116 Group Mitre Loss: 1.0000000000 hinge Loss: 0.8439280742\n",
      "Iteraction: 36000 current example index: 0074 Group Mitre Loss: 1.0000000000 hinge Loss: 0.9316703352\n",
      "Iteraction: 36500 current example index: 0128 Group Mitre Loss: 1.0000000000 hinge Loss: 0.8740283572\n",
      "Iteraction: 37000 current example index: 0055 Group Mitre Loss: 1.0000000000 hinge Loss: 0.9986337084\n",
      "Iteraction: 37500 current example index: 0160 Group Mitre Loss: 1.0000000000 hinge Loss: 0.8431647257\n",
      "Iteraction: 38000 current example index: 0161 Group Mitre Loss: 1.0000000000 hinge Loss: 0.8933456373\n",
      "Iteraction: 38500 current example index: 0072 Group Mitre Loss: 1.0000000000 hinge Loss: 0.8980511968\n",
      "Iteraction: 39000 current example index: 0027 Group Mitre Loss: 1.0000000000 hinge Loss: 0.8117020728\n",
      "Iteraction: 39500 current example index: 0011 Group Mitre Loss: 1.0000000000 hinge Loss: 0.8750341452\n",
      "Iteraction: 40000 current example index: 0108 Group Mitre Loss: 1.0000000000 hinge Loss: 0.8325754345\n",
      "Iteraction: 40500 current example index: 0183 Group Mitre Loss: 1.0000000000 hinge Loss: 0.7954463978\n"
     ]
    },
    {
     "name": "stdout",
     "output_type": "stream",
     "text": [
      "Iteraction: 41000 current example index: 0035 Group Mitre Loss: 1.0000000000 hinge Loss: 0.8833596873\n",
      "Iteraction: 41500 current example index: 0028 Group Mitre Loss: 1.0000000000 hinge Loss: 0.8136869462\n",
      "Iteraction: 42000 current example index: 0152 Group Mitre Loss: 1.0000000000 hinge Loss: 0.7368281167\n",
      "Iteraction: 42500 current example index: 0010 Group Mitre Loss: 1.0000000000 hinge Loss: 0.8767300022\n",
      "Iteraction: 43000 current example index: 0031 Group Mitre Loss: 1.0000000000 hinge Loss: 0.8286706655\n",
      "Iteraction: 43500 current example index: 0052 Group Mitre Loss: 1.0000000000 hinge Loss: 0.9855133384\n",
      "Iteraction: 44000 current example index: 0021 Group Mitre Loss: 1.0000000000 hinge Loss: 0.9111380118\n",
      "Iteraction: 44500 current example index: 0082 Group Mitre Loss: 1.0000000000 hinge Loss: 0.9915028013\n",
      "Iteraction: 45000 current example index: 0178 Group Mitre Loss: 1.0000000000 hinge Loss: 0.9229150654\n",
      "Iteraction: 45500 current example index: 0153 Group Mitre Loss: 1.0000000000 hinge Loss: 0.7310399380\n",
      "Iteraction: 46000 current example index: 0169 Group Mitre Loss: 1.0000000000 hinge Loss: 0.9059685464\n",
      "Iteraction: 46500 current example index: 0138 Group Mitre Loss: 1.0000000000 hinge Loss: 0.9100117141\n",
      "Iteraction: 47000 current example index: 0081 Group Mitre Loss: 1.0000000000 hinge Loss: 0.9397141620\n",
      "Iteraction: 47500 current example index: 0133 Group Mitre Loss: 1.0000000000 hinge Loss: 0.8981375036\n",
      "Iteraction: 48000 current example index: 0076 Group Mitre Loss: 1.0000000000 hinge Loss: 0.9256301472\n",
      "Iteraction: 48500 current example index: 0173 Group Mitre Loss: 1.0000000000 hinge Loss: 0.9083016453\n",
      "Iteraction: 49000 current example index: 0064 Group Mitre Loss: 1.0000000000 hinge Loss: 0.9431436873\n",
      "Iteraction: 49500 current example index: 0097 Group Mitre Loss: 1.0000000000 hinge Loss: 0.7685929407\n",
      "Iteraction: 50000 current example index: 0015 Group Mitre Loss: 1.0000000000 hinge Loss: 0.8359552867\n"
     ]
    }
   ],
   "source": [
    "ssvm = SoleraSVM(n_features=6)\n",
    "ssvm.fit(examples_train,ground ,clusters_train, n_iters=50000, verbose=1, \n",
    "         verbose_iters=500, pairwise_features=features_train)"
   ]
  },
  {
   "cell_type": "code",
   "execution_count": 22,
   "id": "592b2191",
   "metadata": {},
   "outputs": [
    {
     "data": {
      "text/plain": [
       "[[13, 15, 0], [1], [2], [3], [4], [5], [8, 6, 9, 7], [11, 10], [12], [14]]"
      ]
     },
     "execution_count": 22,
     "metadata": {},
     "output_type": "execute_result"
    }
   ],
   "source": [
    "clusters_test[16]"
   ]
  },
  {
   "cell_type": "code",
   "execution_count": 27,
   "id": "322caefc",
   "metadata": {},
   "outputs": [
    {
     "data": {
      "text/plain": [
       "[[4, 5], [2, 3], [0, 13, 15], [10, 11], [6, 9, 7, 8], [1], [12], [14]]"
      ]
     },
     "execution_count": 27,
     "metadata": {},
     "output_type": "execute_result"
    }
   ],
   "source": [
    "predicted,_ = ssvm.predict(examples_test[16], ground, features_test[16])\n",
    "predicted"
   ]
  },
  {
   "cell_type": "code",
   "execution_count": 28,
   "id": "2bc8b06e",
   "metadata": {},
   "outputs": [
    {
     "data": {
      "text/plain": [
       "(0.6923076923076923, 0.8181818181818182, 0.7500000000000001)"
      ]
     },
     "execution_count": 28,
     "metadata": {},
     "output_type": "execute_result"
    }
   ],
   "source": [
    "compute_groupMitre(clusters_test[16], predicted)"
   ]
  },
  {
   "cell_type": "code",
   "execution_count": null,
   "id": "d22882ba",
   "metadata": {},
   "outputs": [],
   "source": []
  },
  {
   "cell_type": "code",
   "execution_count": 282,
   "id": "07b2a619",
   "metadata": {},
   "outputs": [
    {
     "name": "stdout",
     "output_type": "stream",
     "text": [
      "Average recall:  0.81875\n",
      "Average precision:  0.81125\n"
     ]
    }
   ],
   "source": [
    "recalls = []\n",
    "precisions = []\n",
    "F1s = []\n",
    "\n",
    "for i in range(len(examples_test)):\n",
    "    example = examples_test[i]\n",
    "    label = clusters_test[i]\n",
    "    features = features_test[i]\n",
    "    predicted, _ = ssvm.predict(example, ground, features)\n",
    "    recall, precision, F1 = compute_groupMitre(label, predicted)\n",
    "    recalls.append(recall)\n",
    "    precisions.append(precision)\n",
    "    F1s.append(F1)\n",
    "    \n",
    "print(\"Average recall: \", np.mean(recalls))\n",
    "print(\"Average precision: \", np.mean(precisions))"
   ]
  },
  {
   "cell_type": "code",
   "execution_count": 283,
   "id": "1298a67e",
   "metadata": {},
   "outputs": [
    {
     "name": "stdout",
     "output_type": "stream",
     "text": [
      "Average recall:  0.9256410256410255\n",
      "Average precision:  0.9352564102564099\n"
     ]
    }
   ],
   "source": [
    "recalls = []\n",
    "precisions = []\n",
    "F1s = []\n",
    "\n",
    "for i in range(len(examples_valid)):\n",
    "    example = examples_valid[i]\n",
    "    label = clusters_valid[i]\n",
    "    features = features_valid[i]\n",
    "    predicted, _ = ssvm.predict(example, ground, features)\n",
    "    recall, precision, F1 = compute_groupMitre(label, predicted)\n",
    "    recalls.append(recall)\n",
    "    precisions.append(precision)\n",
    "    F1s.append(F1)\n",
    "    \n",
    "print(\"Average recall: \", np.mean(recalls))\n",
    "print(\"Average precision: \", np.mean(precisions))"
   ]
  },
  {
   "cell_type": "code",
   "execution_count": 284,
   "id": "caeffcde",
   "metadata": {},
   "outputs": [
    {
     "name": "stdout",
     "output_type": "stream",
     "text": [
      "Average recall:  0.7756893307151039\n",
      "Average precision:  0.7397775620713765\n"
     ]
    }
   ],
   "source": [
    "recalls = []\n",
    "precisions = []\n",
    "F1s = []\n",
    "\n",
    "for i in range(len(examples_train)):\n",
    "    example = examples_train[i]\n",
    "    label = clusters_train[i]\n",
    "    features = features_train[i]\n",
    "    predicted, _ = ssvm.predict(example, ground, features)\n",
    "    recall, precision, F1 = compute_groupMitre(label, predicted)\n",
    "    recalls.append(recall)\n",
    "    precisions.append(precision)\n",
    "    F1s.append(F1)\n",
    "    \n",
    "print(\"Average recall: \", np.mean(recalls))\n",
    "print(\"Average precision: \", np.mean(precisions))"
   ]
  },
  {
   "cell_type": "code",
   "execution_count": 276,
   "id": "4b46ccb7",
   "metadata": {},
   "outputs": [
    {
     "data": {
      "text/plain": [
       "0.831"
      ]
     },
     "execution_count": 276,
     "metadata": {},
     "output_type": "execute_result"
    }
   ],
   "source": [
    "(0.762+0.9)/2"
   ]
  },
  {
   "cell_type": "code",
   "execution_count": 277,
   "id": "2c549969",
   "metadata": {},
   "outputs": [
    {
     "data": {
      "text/plain": [
       "0.8585"
      ]
     },
     "execution_count": 277,
     "metadata": {},
     "output_type": "execute_result"
    }
   ],
   "source": [
    "(0.787+0.93)/2"
   ]
  },
  {
   "cell_type": "code",
   "execution_count": null,
   "id": "555eba66",
   "metadata": {},
   "outputs": [],
   "source": []
  }
 ],
 "metadata": {
  "kernelspec": {
   "display_name": "Python 3 (ipykernel)",
   "language": "python",
   "name": "python3"
  },
  "language_info": {
   "codemirror_mode": {
    "name": "ipython",
    "version": 3
   },
   "file_extension": ".py",
   "mimetype": "text/x-python",
   "name": "python",
   "nbconvert_exporter": "python",
   "pygments_lexer": "ipython3",
   "version": "3.8.12"
  }
 },
 "nbformat": 4,
 "nbformat_minor": 5
}
