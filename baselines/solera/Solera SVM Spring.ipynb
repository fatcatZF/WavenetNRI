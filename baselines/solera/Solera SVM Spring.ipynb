{
 "cells": [
  {
   "cell_type": "code",
   "execution_count": null,
   "id": "ae0cf9c0",
   "metadata": {},
   "outputs": [],
   "source": [
    "import numpy as np\n",
    "import pickle\n",
    "import os\n",
    "import torch\n",
    "from scipy.stats import norm\n",
    "\n",
    "import tslearn.metrics\n",
    "\n",
    "import itertools\n",
    "from itertools import combinations\n",
    "\n",
    "from utils import *\n",
    "from data_utils import *\n",
    "from models_solera import *"
   ]
  },
  {
   "cell_type": "code",
   "execution_count": null,
   "id": "9fd74316",
   "metadata": {},
   "outputs": [],
   "source": [
    "data_folder = \"data/simulation/spring_simulation/\"\n",
    "suffix = \"_static_10_3_3\"\n",
    "\n",
    "n_atoms = 10\n",
    "n_timesteps = 49\n",
    "n_in = 4\n",
    "\n",
    "\n",
    "features_path = os.path.join(data_folder, \"all_features\"+suffix+\".npy\")\n",
    "all_clustering_path = os.path.join(data_folder, \"all_clustering\"+suffix+\".pkl\")\n",
    "\n",
    "features = np.load(features_path)\n",
    "with open(all_clustering_path, 'rb') as f:\n",
    "    all_clustering = pickle.load(f)\n",
    "    \n",
    "examples = np.zeros((features.shape[0], n_atoms, n_timesteps, n_in)) #feke examples\n",
    "ground = build_ground_spring(examples) #fake ground"
   ]
  },
  {
   "cell_type": "code",
   "execution_count": null,
   "id": "77d77dec",
   "metadata": {},
   "outputs": [],
   "source": [
    "n_examples = examples.shape[0]\n",
    "train_idx = int(n_examples*0.6)\n",
    "\n",
    "valid_idx = int(n_examples*0.8)\n",
    "\n",
    "examples_train = examples[:train_idx, :, :, :]\n",
    "features_train = features[:train_idx,:,:]\n",
    "clusters_train = all_clustering[:train_idx]\n",
    "\n",
    "examples_valid = examples[train_idx:valid_idx,:,:,:]\n",
    "features_valid = features[train_idx:valid_idx,:,:]\n",
    "clusters_valid = all_clustering[train_idx:valid_idx]\n",
    "\n",
    "examples_test = examples[valid_idx:,:,:,:]\n",
    "features_test = features[valid_idx:,:,:]\n",
    "clusters_test = all_clustering[valid_idx:]"
   ]
  },
  {
   "cell_type": "code",
   "execution_count": null,
   "id": "4bd71d08",
   "metadata": {},
   "outputs": [],
   "source": [
    "ssvm = SoleraSVM(n_features=6)\n",
    "ssvm.fit(examples_train, ground ,clusters_train, n_iters=5000, verbose=1, \n",
    "         verbose_iters=500, pairwise_features=features_train)"
   ]
  },
  {
   "cell_type": "code",
   "execution_count": null,
   "id": "429f5d8b",
   "metadata": {},
   "outputs": [],
   "source": [
    "# Test on Test dataset\n",
    "recalls = []\n",
    "precisions = []\n",
    "F1s = []\n",
    "\n",
    "for i in range(len(examples_test)):\n",
    "    example = examples_test[i]\n",
    "    label = clusters_test[i]\n",
    "    features = features_test[i]\n",
    "    predicted, _ = ssvm.predict(example, ground, features)\n",
    "    recall, precision, F1 = compute_groupMitre(label, predicted)\n",
    "    recalls.append(recall)\n",
    "    precisions.append(precision)\n",
    "    F1s.append(F1)\n",
    "    \n",
    "print(\"Average recall: \", np.mean(recalls))\n",
    "print(\"Average precision: \", np.mean(precisions))"
   ]
  }
 ],
 "metadata": {
  "kernelspec": {
   "display_name": "Python 3 (ipykernel)",
   "language": "python",
   "name": "python3"
  },
  "language_info": {
   "codemirror_mode": {
    "name": "ipython",
    "version": 3
   },
   "file_extension": ".py",
   "mimetype": "text/x-python",
   "name": "python",
   "nbconvert_exporter": "python",
   "pygments_lexer": "ipython3",
   "version": "3.8.12"
  }
 },
 "nbformat": 4,
 "nbformat_minor": 5
}
