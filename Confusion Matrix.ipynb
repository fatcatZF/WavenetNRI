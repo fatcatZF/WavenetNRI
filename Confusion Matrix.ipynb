{
 "cells": [
  {
   "cell_type": "code",
   "execution_count": null,
   "id": "0e28a508",
   "metadata": {},
   "outputs": [],
   "source": [
    "import numpy as np\n",
    "import pandas as pd\n",
    "import torch\n",
    "import os\n",
    "import pickle\n",
    "\n",
    "from models_NRI import *\n",
    "from utils import *"
   ]
  },
  {
   "cell_type": "code",
   "execution_count": null,
   "id": "a1eecf9b",
   "metadata": {},
   "outputs": [],
   "source": [
    "def compute_confusion(preds, target):\n",
    "    \"\"\"compute TN, FP, FN, TP\"\"\"\n",
    "    _, preds = preds.max(-1)\n",
    "    true_positive = ((preds[target==1]==1).cpu().sum()).item()\n",
    "    false_negative = ((preds[target==1]==0).cpu().sum()).item()\n",
    "    true_negative = ((preds[target==0]==0).cpu().sum()).item()\n",
    "    false_positive = ((preds[target==0]==1).cpu().sum()).item()\n",
    "    \n",
    "    return true_negative, false_negative, false_positive, true_positive"
   ]
  },
  {
   "cell_type": "markdown",
   "id": "2ac310da",
   "metadata": {},
   "source": [
    "# Compute tn, fp, fn, tp"
   ]
  },
  {
   "cell_type": "markdown",
   "id": "cad3738b",
   "metadata": {},
   "source": [
    "## Spring Simulation data sets"
   ]
  },
  {
   "cell_type": "code",
   "execution_count": null,
   "id": "f5816281",
   "metadata": {},
   "outputs": [],
   "source": [
    "#path of the gnn encoder file\n",
    "encoder_file = \"logs/nri/wavenetsym__static_10_3_5_2022-/\"\n",
    "encoder = torch.load(encoder_file)\n",
    "encoder"
   ]
  },
  {
   "cell_type": "code",
   "execution_count": null,
   "id": "e06b9d06",
   "metadata": {},
   "outputs": [],
   "source": [
    "#load data\n",
    "suffix = \"_static_10_3_5\"\n",
    "n_atoms = 10\n",
    "\n",
    "cuda = True\n",
    "\n",
    "\n",
    "tns = []\n",
    "fns = []\n",
    "fps = []\n",
    "tps = []\n",
    "\n",
    "off_diag = np.ones([n_atoms, n_atoms]) - np.eye(n_atoms)\n",
    "rel_rec = np.array(encode_onehot(np.where(off_diag)[0]), dtype=np.float32)\n",
    "rel_send = np.array(encode_onehot(np.where(off_diag)[1]), dtype=np.float32)\n",
    "rel_rec = torch.from_numpy(rel_rec)\n",
    "rel_send = torch.from_numpy(rel_send)\n",
    "\n",
    "if cuda:\n",
    "    rel_rec, rel_send = rel_rec.cuda(), rel_send.cuda()\n",
    "\n",
    "train_loader, valid_loader, test_loader, loc_max, loc_min, vel_max, vel_min = load_spring_sim(64, \n",
    "                                                                                             suffix)\n",
    "encoder.eval()\n",
    "\n",
    "for batch_idx, (data, relations) in enumerate(test_loader):\n",
    "    if cuda:\n",
    "        data, relations = data.cuda(), relations.cuda()\n",
    "    relations, relations_masked = relations[:,:,0], relations[:,:,1]\n",
    "    #data; shape:[n_sims, n_atoms, n_timesteps, n_in]\n",
    "    #relations; shape:[n_sims, n_edgs]\n",
    "    logits = encoder(data, rel_rec, rel_send)\n",
    "    tn,fn,fp,tp = compute_confusion(logits, relations)\n",
    "    \n",
    "    tns.append(tn)\n",
    "    fns.append(fn)\n",
    "    fps.append(fp)\n",
    "    tps.append(tp)\n",
    "    \n",
    "total_true_negatives = np.sum(tns)\n",
    "total_false_negatives = np.sum(fns)\n",
    "total_false_positives = np.sum(fps)\n",
    "total_true_positives = np.sum(tps)\n",
    "\n",
    "print(\"normalized tn: \", total_true_negatives/(total_true_negatives+total_false_positives))\n",
    "print(\"normalized fn: \", total_false_negatives/(total_true_positives+total_false_negatives))\n",
    "print(\"normalized fp: \", total_false_positives/(total_false_positives+total_true_negatives))\n",
    "print(\"normalized tp: \", total_true_positives/(total_false_negatives+total_true_positives))"
   ]
  },
  {
   "cell_type": "markdown",
   "id": "ec8e7b47",
   "metadata": {},
   "source": [
    "## Pedestrian data sets"
   ]
  },
  {
   "cell_type": "code",
   "execution_count": null,
   "id": "7011d446",
   "metadata": {},
   "outputs": [],
   "source": [
    "encoder_file = \"logs/nriped/wavenetsym_zara01_split00\"\n",
    "encoder = torch.load(encoder_file)\n",
    "encoder"
   ]
  },
  {
   "cell_type": "code",
   "execution_count": null,
   "id": "45b6afe1",
   "metadata": {},
   "outputs": [],
   "source": [
    "#Load data\n",
    "suffix = \"zara01\"\n",
    "split = \"split00\"\n",
    "data_folder = os.path.join(\"data/pedestrian/\", suffix)\n",
    "data_folder = os.path.join(data_folder, split)\n",
    "\n",
    "\n",
    "with open(os.path.join(data_folder, \"tensors_test.pkl\"), 'rb') as f:\n",
    "    examples_test = pickle.load(f)\n",
    "with open(os.path.join(data_folder, \"labels_test.pkl\"), 'rb') as f:\n",
    "    labels_test = pickle.load(f)\n",
    "\n",
    "test_indices = np.arange(len(examples_test))"
   ]
  },
  {
   "cell_type": "code",
   "execution_count": null,
   "id": "996fe7c9",
   "metadata": {},
   "outputs": [],
   "source": [
    "cuda = True\n",
    "true_negatives = []\n",
    "false_negatives = []\n",
    "false_positives = []\n",
    "true_positives = []\n",
    "\n",
    "encoder.eval()\n",
    "\n",
    "with torch.no_grad():\n",
    "    for idx in test_indices:\n",
    "        example = examples_test[idx]\n",
    "        label = labels_test[idx]\n",
    "        example = example.unsqueeze(0)\n",
    "        label = label.unsqueeze(0)\n",
    "        num_atoms = example.size(1)\n",
    "        rel_rec, rel_send = create_edgeNode_relation(num_atoms, self_loops=False)\n",
    "        if cuda:\n",
    "            example = example.cuda()\n",
    "            label = label.cuda()\n",
    "            rel_rec, rel_send = rel_rec.cuda(), rel_send.cuda()\n",
    "        example = example.float()\n",
    "        logits = encoder(example, rel_rec, rel_send)\n",
    "        tn, fn, fp, tp = compute_confusion(logits, label)\n",
    "        true_negatives.append(tn)\n",
    "        false_negatives.append(fn)\n",
    "        false_positives.append(fp)\n",
    "        true_positives.append(tp)\n",
    "        \n",
    "total_true_negatives = np.sum(true_negatives)\n",
    "total_false_negatives = np.sum(false_negatives)\n",
    "total_false_positives = np.sum(false_positives)\n",
    "total_true_positives = np.sum(true_positives)\n",
    "\n",
    "\n",
    "\n",
    "\n",
    "print(\"true negatives: \", total_true_negatives)\n",
    "print(\"false negatives: \", total_false_negatives)\n",
    "print(\"false positives: \", total_false_positives)\n",
    "print(\"true positives: \", total_true_positives)\n",
    "\n",
    "\n",
    "print(\"normalized tn: \", total_true_negatives/(total_true_negatives+total_false_positives))\n",
    "print(\"normalized fn: \", total_false_negatives/(total_true_positives+total_false_negatives))\n",
    "print(\"normalized fp: \", total_false_positives/(total_false_positives+total_true_negatives))\n",
    "print(\"normalized tp: \", total_true_positives/(total_false_negatives+total_true_positives))"
   ]
  },
  {
   "cell_type": "markdown",
   "id": "1981a03f",
   "metadata": {},
   "source": [
    "# Confusion Matrices\n",
    "Plot confusion matrices"
   ]
  },
  {
   "cell_type": "code",
   "execution_count": 1,
   "id": "04b103e6",
   "metadata": {},
   "outputs": [],
   "source": [
    "import numpy as np\n",
    "import seaborn as sns\n",
    "import matplotlib.pyplot as plt"
   ]
  },
  {
   "cell_type": "code",
   "execution_count": 6,
   "id": "e00b49be",
   "metadata": {},
   "outputs": [],
   "source": [
    "!mkdir figures/confusionMatrices"
   ]
  },
  {
   "cell_type": "code",
   "execution_count": 7,
   "id": "d99185dd",
   "metadata": {},
   "outputs": [
    {
     "data": {
      "image/png": "[encoded data removed]",
      "text/plain": [
       "<Figure size 432x288 with 2 Axes>"
      ]
     },
     "metadata": {
      "needs_background": "light"
     },
     "output_type": "display_data"
    }
   ],
   "source": [
    "plt.rcParams.update({'font.size': 14})\n",
    "\n",
    "cf_matrix = np.array([[0.947, 0.053],\n",
    "                            [0.096, 0.904]])\n",
    "\n",
    "\n",
    "\n",
    "\n",
    "sns.heatmap(cf_matrix, annot=True, fmt='', cmap=\"Blues\", vmin=0, vmax=1)\n",
    "\n",
    "\n",
    "plt.xlabel(\"Predicted Interactions\")\n",
    "plt.ylabel(\"Group Relationships\")\n",
    "\n",
    "plt.savefig(\"figures/confusionMatrices/Hotel_yamaguchi.pdf\")\n",
    "\n",
    "\n",
    "plt.show()"
   ]
  },
  {
   "cell_type": "code",
   "execution_count": null,
   "id": "8fd7e6e1",
   "metadata": {},
   "outputs": [],
   "source": []
  }
 ],
 "metadata": {
  "kernelspec": {
   "display_name": "Python 3 (ipykernel)",
   "language": "python",
   "name": "python3"
  },
  "language_info": {
   "codemirror_mode": {
    "name": "ipython",
    "version": 3
   },
   "file_extension": ".py",
   "mimetype": "text/x-python",
   "name": "python",
   "nbconvert_exporter": "python",
   "pygments_lexer": "ipython3",
   "version": "3.8.12"
  }
 },
 "nbformat": 4,
 "nbformat_minor": 5
}
