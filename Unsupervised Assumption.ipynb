{
 "cells": [
  {
   "cell_type": "code",
   "execution_count": 1,
   "id": "7b3f433c",
   "metadata": {},
   "outputs": [],
   "source": [
    "import pickle\n",
    "import numpy as np\n",
    "import os\n",
    "import matplotlib.pyplot as plt"
   ]
  },
  {
   "cell_type": "markdown",
   "id": "24005540",
   "metadata": {},
   "source": [
    "## Pedestrian Datasets"
   ]
  },
  {
   "cell_type": "code",
   "execution_count": 13,
   "id": "f437dac6",
   "metadata": {},
   "outputs": [],
   "source": [
    "data_folder = \"/home/s2289164/Academic/graduateThesis/GroupDetection/logs/nriped\""
   ]
  },
  {
   "cell_type": "code",
   "execution_count": 73,
   "id": "3f695c05",
   "metadata": {},
   "outputs": [
    {
     "name": "stdout",
     "output_type": "stream",
     "text": [
      "nri acc path 0:  /home/s2289164/Academic/graduateThesis/GroupDetection/logs/nriped/cnn_Hotel_2022-05-06T15:11:34.834239/acc_train.pkl\n",
      "nri mse path 0:  /home/s2289164/Academic/graduateThesis/GroupDetection/logs/nriped/cnn_Hotel_2022-05-06T15:11:34.834239/mse_train.pkl\n",
      "wave acc path 0:  /home/s2289164/Academic/graduateThesis/GroupDetection/logs/nriped/wavenetsym_Hotel_split01_2022-05-08T21:04:12.373624/acc_train.pkl\n",
      "wave mse path 0:  /home/s2289164/Academic/graduateThesis/GroupDetection/logs/nriped/wavenetsym_Hotel_split01_2022-05-08T21:04:12.373624/mse_train.pkl\n",
      "nri acc path 1:  /home/s2289164/Academic/graduateThesis/GroupDetection/logs/nriped/cnn_Hotel_2022-05-06T10:29:18.676489/acc_train.pkl\n",
      "nri mse path 1:  /home/s2289164/Academic/graduateThesis/GroupDetection/logs/nriped/cnn_Hotel_2022-05-06T10:29:18.676489/mse_train.pkl\n",
      "wave acc path 1:  /home/s2289164/Academic/graduateThesis/GroupDetection/logs/nriped/wavenetsym_Hotel_split10_2022-05-08T21:19:16.809639/acc_train.pkl\n",
      "wave mse path 1:  /home/s2289164/Academic/graduateThesis/GroupDetection/logs/nriped/wavenetsym_Hotel_split10_2022-05-08T21:19:16.809639/mse_train.pkl\n",
      "nri acc path 2:  /home/s2289164/Academic/graduateThesis/GroupDetection/logs/nriped/cnn_Hotel_2022-05-06T13:51:37.902249/acc_train.pkl\n",
      "nri eth mse path 2:  /home/s2289164/Academic/graduateThesis/GroupDetection/logs/nriped/cnn_Hotel_2022-05-06T13:51:37.902249/mse_train.pkl\n",
      "wave acc path 2:  /home/s2289164/Academic/graduateThesis/GroupDetection/logs/nriped/wavenetsym_Hotel_split20_2022-05-08T23:47:21.547012/acc_train.pkl\n",
      "wave mse path 2:  /home/s2289164/Academic/graduateThesis/GroupDetection/logs/nriped/wavenetsym_Hotel_split20_2022-05-08T23:47:21.547012/mse_train.pkl\n"
     ]
    }
   ],
   "source": [
    "# Load model\n",
    "\n",
    "model_folder = \"/home/s2289164/Academic/graduateThesis/GroupDetection/logs/nriped/cnn_Hotel_2022-05-06T15:11:34.834239/\"\n",
    "wavenet_folder = \"/home/s2289164/Academic/graduateThesis/GroupDetection/logs/nriped/wavenetsym_Hotel_split01_2022-05-08T21:04:12.373624/\"\n",
    "\n",
    "nri_acc_path_0 = os.path.join(model_folder, \"acc_train.pkl\")\n",
    "print(\"nri acc path 0: \", nri_acc_path_0)\n",
    "nri_mse_path_0 = os.path.join(model_folder, \"mse_train.pkl\")\n",
    "print(\"nri mse path 0: \", nri_mse_path_0)\n",
    "\n",
    "wave_acc_path_0 = os.path.join(wavenet_folder, \"acc_train.pkl\")\n",
    "print(\"wave acc path 0: \", wave_acc_path_0)\n",
    "wave_mse_path_0 = os.path.join(wavenet_folder, \"mse_train.pkl\")\n",
    "print(\"wave mse path 0: \", wave_mse_path_0)\n",
    "\n",
    "#load mse and acc\n",
    "with open(nri_mse_path_0, 'rb') as f:\n",
    "    nri_mse_0 = pickle.load(f)\n",
    "    nri_mse_0 = np.array(nri_mse_0).reshape(-1,1)\n",
    "with open(nri_acc_path_0, 'rb') as f:\n",
    "    nri_acc_0 = pickle.load(f)\n",
    "    nri_acc_0 = np.array(nri_acc_0).reshape(-1,1)\n",
    "\n",
    "with open(wave_mse_path_0, 'rb') as f:\n",
    "    wave_mse_0 = pickle.load(f)\n",
    "    wave_mse_0 = np.array(wave_mse_0).reshape(-1,1)\n",
    "with open(wave_acc_path_0, 'rb') as f:\n",
    "    wave_acc_0 = pickle.load(f)\n",
    "    wave_acc_0 = np.array(wave_acc_0).reshape(-1,1)\n",
    "\n",
    "    \n",
    "    \n",
    "model_folder = \"/home/s2289164/Academic/graduateThesis/GroupDetection/logs/nriped/cnn_Hotel_2022-05-06T10:29:18.676489/\"\n",
    "wavenet_folder = \"/home/s2289164/Academic/graduateThesis/GroupDetection/logs/nriped/wavenetsym_Hotel_split10_2022-05-08T21:19:16.809639/\"\n",
    "\n",
    "nri_acc_path_1 = os.path.join(model_folder, \"acc_train.pkl\")\n",
    "print(\"nri acc path 1: \", nri_acc_path_1)\n",
    "nri_mse_path_1 = os.path.join(model_folder, \"mse_train.pkl\")\n",
    "print(\"nri mse path 1: \", nri_mse_path_1)\n",
    "\n",
    "wave_acc_path_1 = os.path.join(wavenet_folder, \"acc_train.pkl\")\n",
    "print(\"wave acc path 1: \", wave_acc_path_1)\n",
    "wave_mse_path_1 = os.path.join(wavenet_folder, \"mse_train.pkl\")\n",
    "print(\"wave mse path 1: \", wave_mse_path_1)\n",
    "\n",
    "\n",
    "\n",
    "#load mse and acc\n",
    "with open(nri_mse_path_1, 'rb') as f:\n",
    "    nri_mse_1 = pickle.load(f)\n",
    "    nri_mse_1 = np.array(nri_mse_1).reshape(-1,1)\n",
    "with open(nri_acc_path_1, 'rb') as f:\n",
    "    nri_acc_1 = pickle.load(f)\n",
    "    nri_acc_1 = np.array(nri_acc_1).reshape(-1,1)\n",
    "\n",
    "with open(wave_mse_path_1, 'rb') as f:\n",
    "    wave_mse_1 = pickle.load(f)\n",
    "    wave_mse_1 = np.array(wave_mse_1).reshape(-1,1)\n",
    "with open(wave_acc_path_1, 'rb') as f:\n",
    "    wave_acc_1 = pickle.load(f)\n",
    "    wave_acc_1 = np.array(wave_acc_1).reshape(-1,1)\n",
    "    \n",
    "    \n",
    "\n",
    "    \n",
    "model_folder = \"/home/s2289164/Academic/graduateThesis/GroupDetection/logs/nriped/cnn_Hotel_2022-05-06T13:51:37.902249/\"\n",
    "wavenet_folder = \"/home/s2289164/Academic/graduateThesis/GroupDetection/logs/nriped/wavenetsym_Hotel_split20_2022-05-08T23:47:21.547012/\"\n",
    "    \n",
    "    \n",
    "\n",
    "nri_acc_path_2 = os.path.join(model_folder, \"acc_train.pkl\")\n",
    "print(\"nri acc path 2: \", nri_acc_path_2)\n",
    "nri_mse_path_2 = os.path.join(model_folder, \"mse_train.pkl\")\n",
    "print(\"nri eth mse path 2: \", nri_mse_path_2)\n",
    "\n",
    "wave_acc_path_2 = os.path.join(wavenet_folder, \"acc_train.pkl\")\n",
    "print(\"wave acc path 2: \", wave_acc_path_2)\n",
    "wave_mse_path_2 = os.path.join(wavenet_folder, \"mse_train.pkl\")\n",
    "print(\"wave mse path 2: \", wave_mse_path_2)\n",
    "\n",
    "#load mse and acc\n",
    "with open(nri_mse_path_2, 'rb') as f:\n",
    "    nri_mse_2 = pickle.load(f)\n",
    "    nri_mse_2 = np.array(nri_mse_2).reshape(-1,1)\n",
    "with open(nri_acc_path_2, 'rb') as f:\n",
    "    nri_acc_2 = pickle.load(f)\n",
    "    nri_acc_2 = np.array(nri_acc_2).reshape(-1,1)\n",
    "    \n",
    "with open(wave_mse_path_2, 'rb') as f:\n",
    "    wave_mse_2 = pickle.load(f)\n",
    "    wave_mse_2 = np.array(wave_mse_2).reshape(-1,1)\n",
    "with open(wave_acc_path_2, 'rb') as f:\n",
    "    wave_acc_2 = pickle.load(f)\n",
    "    wave_acc_2 = np.array(wave_acc_2).reshape(-1,1)\n",
    "\n"
   ]
  },
  {
   "cell_type": "code",
   "execution_count": null,
   "id": "8c72317e",
   "metadata": {},
   "outputs": [],
   "source": []
  },
  {
   "cell_type": "code",
   "execution_count": 75,
   "id": "597a148e",
   "metadata": {},
   "outputs": [],
   "source": [
    "# Concatenate data\n",
    "nri_acc = np.concatenate([nri_acc_0, nri_acc_1, nri_acc_2], axis=-1)\n",
    "nri_mse = np.concatenate([nri_mse_0, nri_mse_1, nri_mse_2], axis=-1)\n",
    "wave_acc = np.concatenate([wave_acc_0, wave_acc_1, wave_acc_2], axis=-1)\n",
    "wave_mse = np.concatenate([wave_mse_0, wave_mse_1, wave_mse_2],axis=-1)\n",
    "epochs = np.arange(200)"
   ]
  },
  {
   "cell_type": "code",
   "execution_count": null,
   "id": "0d9b91f7",
   "metadata": {},
   "outputs": [],
   "source": []
  },
  {
   "cell_type": "code",
   "execution_count": 76,
   "id": "fb122749",
   "metadata": {},
   "outputs": [
    {
     "data": {
      "image/png": "[encoded data removed]",
      "text/plain": [
       "<Figure size 432x288 with 1 Axes>"
      ]
     },
     "metadata": {
      "needs_background": "light"
     },
     "output_type": "display_data"
    }
   ],
   "source": [
    "plt.rcParams.update({'font.size': 13.})\n",
    "\n",
    "plt.plot(epochs, nri_mse.mean(-1), color='red', label=\"NRI\")\n",
    "plt.fill_between(epochs, nri_mse.mean(-1)-nri_mse.std(-1), \n",
    "                nri_mse.mean(-1)+nri_mse.std(-1), color='red', alpha=0.3)\n",
    "\n",
    "plt.plot(epochs, wave_mse.mean(-1), color='green', label=\"WavenetNRI\")\n",
    "plt.fill_between(epochs, wave_mse.mean(-1)-wave_mse.std(-1), \n",
    "                wave_mse.mean(-1)+wave_mse.std(-1), color='green', alpha=0.3)\n",
    "\n",
    "plt.xlabel(\"epoch\")\n",
    "plt.ylabel(\"MSE\")\n",
    "\n",
    "plt.legend()\n",
    "\n",
    "plt.savefig(\"figures/nriwave_Hotel_mse.pdf\")\n",
    "\n",
    "plt.show()"
   ]
  },
  {
   "cell_type": "code",
   "execution_count": 77,
   "id": "2d684e4e",
   "metadata": {},
   "outputs": [
    {
     "data": {
      "image/png": "[encoded data removed]",
      "text/plain": [
       "<Figure size 432x288 with 1 Axes>"
      ]
     },
     "metadata": {
      "needs_background": "light"
     },
     "output_type": "display_data"
    }
   ],
   "source": [
    "plt.rcParams.update({'font.size': 13.})\n",
    "\n",
    "plt.plot(epochs, nri_acc.mean(-1), color='red', label=\"NRI\")\n",
    "plt.fill_between(epochs, nri_acc.mean(-1)-nri_acc.std(-1), \n",
    "                nri_acc.mean(-1)+nri_acc.std(-1), color='red', alpha=0.3)\n",
    "\n",
    "plt.plot(epochs, wave_acc.mean(-1), color='green', label=\"WavenetNRI\")\n",
    "plt.fill_between(epochs, wave_acc.mean(-1)-wave_acc.std(-1), \n",
    "                wave_acc.mean(-1)+wave_acc.std(-1), color='green', alpha=0.3)\n",
    "\n",
    "plt.legend()\n",
    "\n",
    "plt.ylim([0,1])\n",
    "\n",
    "plt.xlabel(\"epoch\")\n",
    "plt.ylabel(\"Edge Accuracy\")\n",
    "\n",
    "#plt.title(\"Accuracy\")\n",
    "\n",
    "plt.savefig(\"figures/nriwave_Hotel_acc.pdf\")\n",
    "\n",
    "plt.show()"
   ]
  },
  {
   "cell_type": "code",
   "execution_count": null,
   "id": "04fc0c57",
   "metadata": {},
   "outputs": [],
   "source": []
  },
  {
   "cell_type": "code",
   "execution_count": null,
   "id": "0c26ab07",
   "metadata": {},
   "outputs": [],
   "source": []
  },
  {
   "cell_type": "code",
   "execution_count": null,
   "id": "835142aa",
   "metadata": {},
   "outputs": [],
   "source": []
  },
  {
   "cell_type": "markdown",
   "id": "f6fd3dac",
   "metadata": {},
   "source": [
    "## Spring Simulation"
   ]
  },
  {
   "cell_type": "code",
   "execution_count": 3,
   "id": "1b810b6f",
   "metadata": {},
   "outputs": [
    {
     "name": "stdout",
     "output_type": "stream",
     "text": [
      "acc_train.pkl  metadata.pkl   nri_decoder.pt\r\n",
      "log.txt        mse_train.pkl  nri_encoder.pt\r\n"
     ]
    }
   ],
   "source": [
    "!ls logs/nri/cnn__static_8_3_2_2022-05-13T21\\:51\\:25.428536"
   ]
  },
  {
   "cell_type": "code",
   "execution_count": 46,
   "id": "f4a7bfad",
   "metadata": {},
   "outputs": [
    {
     "name": "stdout",
     "output_type": "stream",
     "text": [
      "nri acc path 0:  logs/nri/cnn__static_10_3_5_2022-06-01T14:55:54.176873/acc_train.pkl\n",
      "nri mse path 0:  logs/nri/cnn__static_10_3_5_2022-06-01T14:55:54.176873/mse_train.pkl\n",
      "wave acc path 0:  logs/nri/wavenetsym__static_10_3_5_2022-06-01T17:54:46.528756_use_motion/acc_train.pkl\n",
      "wave mse path 0:  logs/nri/wavenetsym__static_10_3_5_2022-06-01T17:54:46.528756_use_motion/mse_train.pkl\n",
      "nri acc path 1:  logs/nri/cnn__static_10_3_5_2022-06-01T15:23:03.150800/acc_train.pkl\n",
      "nri mse path 1:  logs/nri/cnn__static_10_3_5_2022-06-01T15:23:03.150800/mse_train.pkl\n",
      "wave acc path 1:  logs/nri/wavenetsym__static_10_3_5_2022-06-05T01:11:10.291189_use_motion/acc_train.pkl\n",
      "wave mse path 1:  logs/nri/wavenetsym__static_10_3_5_2022-06-05T01:11:10.291189_use_motion/mse_train.pkl\n",
      "nri acc path 2:  logs/nri/cnn__static_10_3_5_2022-06-01T15:55:43.458778/acc_train.pkl\n",
      "nri eth mse path 2:  logs/nri/cnn__static_10_3_5_2022-06-01T15:55:43.458778/mse_train.pkl\n",
      "wave acc path 2:  logs/nri/wavenetsym__static_10_3_5_2022-06-02T00:34:41.817336_use_motion/acc_train.pkl\n",
      "wave mse path 2:  logs/nri/wavenetsym__static_10_3_5_2022-06-02T00:34:41.817336_use_motion/mse_train.pkl\n"
     ]
    }
   ],
   "source": [
    "model_folder = \"logs/nri/cnn__static_10_3_5_2022-06-01T14:55:54.176873/\"\n",
    "wavenet_folder = \"logs/nri/wavenetsym__static_10_3_5_2022-06-01T17:54:46.528756_use_motion/\"\n",
    "\n",
    "\n",
    "nri_acc_path_0 = os.path.join(model_folder, \"acc_train.pkl\")\n",
    "print(\"nri acc path 0: \", nri_acc_path_0)\n",
    "nri_mse_path_0 = os.path.join(model_folder, \"mse_train.pkl\")\n",
    "print(\"nri mse path 0: \", nri_mse_path_0)\n",
    "\n",
    "wave_acc_path_0 = os.path.join(wavenet_folder, \"acc_train.pkl\")\n",
    "print(\"wave acc path 0: \", wave_acc_path_0)\n",
    "wave_mse_path_0 = os.path.join(wavenet_folder, \"mse_train.pkl\")\n",
    "print(\"wave mse path 0: \", wave_mse_path_0)\n",
    "\n",
    "\n",
    "with open(nri_mse_path_0, 'rb') as f:\n",
    "    nri_mse_0 = pickle.load(f)\n",
    "    nri_mse_0 = np.array(nri_mse_0).reshape(-1,1)\n",
    "      \n",
    "with open(nri_acc_path_0, 'rb') as f:\n",
    "    nri_acc_0 = pickle.load(f)\n",
    "    nri_acc_0 = np.array(nri_acc_0).reshape(-1,1)\n",
    "      \n",
    "with open(wave_mse_path_0, 'rb') as f:\n",
    "    wave_mse_0 = pickle.load(f)\n",
    "    wave_mse_0 = np.array(wave_mse_0).reshape(-1,1)\n",
    "with open(wave_acc_path_0, 'rb') as f:\n",
    "    wave_acc_0 = pickle.load(f)\n",
    "    wave_acc_0 = np.array(wave_acc_0).reshape(-1,1)\n",
    "            \n",
    "      \n",
    "\n",
    "    \n",
    "model_folder = \"logs/nri/cnn__static_10_3_5_2022-06-01T15:23:03.150800/\"\n",
    "wavenet_folder = \"logs/nri/wavenetsym__static_10_3_5_2022-06-05T01:11:10.291189_use_motion/\"     \n",
    "      \n",
    "\n",
    "nri_acc_path_1 = os.path.join(model_folder, \"acc_train.pkl\")\n",
    "print(\"nri acc path 1: \", nri_acc_path_1)\n",
    "nri_mse_path_1 = os.path.join(model_folder, \"mse_train.pkl\")\n",
    "print(\"nri mse path 1: \", nri_mse_path_1)\n",
    "      \n",
    "wave_acc_path_1 = os.path.join(wavenet_folder, \"acc_train.pkl\")\n",
    "print(\"wave acc path 1: \", wave_acc_path_1)\n",
    "wave_mse_path_1 = os.path.join(wavenet_folder, \"mse_train.pkl\")\n",
    "print(\"wave mse path 1: \", wave_mse_path_1)\n",
    "\n",
    "\n",
    "#load mse and acc\n",
    "with open(nri_mse_path_1, 'rb') as f:\n",
    "    nri_mse_1 = pickle.load(f)\n",
    "    nri_mse_1 = np.array(nri_mse_1).reshape(-1,1)\n",
    "with open(nri_acc_path_1, 'rb') as f:\n",
    "    nri_acc_1 = pickle.load(f)\n",
    "    nri_acc_1 = np.array(nri_acc_1).reshape(-1,1)\n",
    "    \n",
    "with open(wave_mse_path_1, 'rb') as f:\n",
    "    wave_mse_1 = pickle.load(f)\n",
    "    wave_mse_1 = np.array(wave_mse_1).reshape(-1,1)\n",
    "with open(wave_acc_path_1, 'rb') as f:\n",
    "    wave_acc_1 = pickle.load(f)\n",
    "    wave_acc_1 = np.array(wave_acc_1).reshape(-1,1)\n",
    "\n",
    "\n",
    "    \n",
    "model_folder = \"logs/nri/cnn__static_10_3_5_2022-06-01T15:55:43.458778/\"\n",
    "wavenet_folder = \"logs/nri/wavenetsym__static_10_3_5_2022-06-02T00:34:41.817336_use_motion/\"     \n",
    "\n",
    "nri_acc_path_2 = os.path.join(model_folder, \"acc_train.pkl\")\n",
    "print(\"nri acc path 2: \", nri_acc_path_2)\n",
    "nri_mse_path_2 = os.path.join(model_folder, \"mse_train.pkl\")\n",
    "print(\"nri eth mse path 2: \", nri_mse_path_2)\n",
    "\n",
    "wave_acc_path_2 = os.path.join(wavenet_folder, \"acc_train.pkl\")\n",
    "print(\"wave acc path 2: \", wave_acc_path_2)\n",
    "wave_mse_path_2 = os.path.join(wavenet_folder, \"mse_train.pkl\")\n",
    "print(\"wave mse path 2: \", wave_mse_path_2)\n",
    "\n",
    "\n",
    "\n",
    "#load mse and acc\n",
    "with open(nri_mse_path_2, 'rb') as f:\n",
    "    nri_mse_2 = pickle.load(f)\n",
    "    nri_mse_2 = np.array(nri_mse_2).reshape(-1,1)\n",
    "with open(nri_acc_path_2, 'rb') as f:\n",
    "    nri_acc_2 = pickle.load(f)\n",
    "    nri_acc_2 = np.array(nri_acc_2).reshape(-1,1)\n",
    "      \n",
    "with open(wave_mse_path_2, 'rb') as f:\n",
    "    wave_mse_2 = pickle.load(f)\n",
    "    wave_mse_2 = np.array(wave_mse_2).reshape(-1,1)\n",
    "with open(wave_acc_path_2, 'rb') as f:\n",
    "    wave_acc_2 = pickle.load(f)\n",
    "    wave_acc_2 = np.array(wave_acc_2).reshape(-1,1)"
   ]
  },
  {
   "cell_type": "code",
   "execution_count": null,
   "id": "6d188545",
   "metadata": {},
   "outputs": [],
   "source": []
  },
  {
   "cell_type": "code",
   "execution_count": null,
   "id": "7cf46447",
   "metadata": {},
   "outputs": [],
   "source": []
  },
  {
   "cell_type": "code",
   "execution_count": 48,
   "id": "91dc7623",
   "metadata": {},
   "outputs": [],
   "source": [
    "nri_acc = np.concatenate([nri_acc_0, nri_acc_1, nri_acc_2], axis=-1)\n",
    "nri_mse = np.concatenate([nri_mse_0, nri_mse_1, nri_mse_2], axis=-1)\n",
    "wave_acc = np.concatenate([wave_acc_0, wave_acc_1, wave_acc_2], axis=-1)\n",
    "wave_mse = np.concatenate([wave_mse_0, wave_mse_1, wave_mse_2],axis=-1)\n",
    "epochs = np.arange(200)"
   ]
  },
  {
   "cell_type": "code",
   "execution_count": 49,
   "id": "9ac51f8f",
   "metadata": {},
   "outputs": [
    {
     "data": {
      "image/png": "[encoded data removed]",
      "text/plain": [
       "<Figure size 432x288 with 1 Axes>"
      ]
     },
     "metadata": {
      "needs_background": "light"
     },
     "output_type": "display_data"
    }
   ],
   "source": [
    "plt.rcParams.update({'font.size': 13.})\n",
    "plt.plot(epochs, nri_mse.mean(-1), color='red', label=\"NRI\")\n",
    "plt.fill_between(epochs, nri_mse.mean(-1)-nri_mse.std(-1), \n",
    "                nri_mse.mean(-1)+nri_mse.std(-1), color='red', alpha=0.3)\n",
    "\n",
    "plt.plot(epochs, wave_mse.mean(-1), color='green', label=\"WavenetNRI\")\n",
    "plt.fill_between(epochs, wave_mse.mean(-1)-wave_mse.std(-1), \n",
    "                wave_mse.mean(-1)+wave_mse.std(-1), color='green', alpha=0.3)\n",
    "\n",
    "plt.legend()\n",
    "\n",
    "plt.xlabel(\"epoch\")\n",
    "plt.ylabel(\"MSE\")\n",
    "\n",
    "plt.savefig(\"figures/nriwave_sim6_mse.pdf\")\n",
    "\n",
    "#plt.title(\"MSE\")\n",
    "\n",
    "plt.show()"
   ]
  },
  {
   "cell_type": "code",
   "execution_count": 50,
   "id": "14dda83c",
   "metadata": {},
   "outputs": [
    {
     "data": {
      "image/png": "[encoded data removed]",
      "text/plain": [
       "<Figure size 432x288 with 1 Axes>"
      ]
     },
     "metadata": {
      "needs_background": "light"
     },
     "output_type": "display_data"
    }
   ],
   "source": [
    "plt.rcParams.update({'font.size': 13.})\n",
    "\n",
    "plt.plot(epochs, nri_acc.mean(-1), color='red', label=\"NRI\")\n",
    "plt.fill_between(epochs, nri_acc.mean(-1)-nri_acc.std(-1), \n",
    "                nri_acc.mean(-1)+nri_acc.std(-1), color='red', alpha=0.3)\n",
    "\n",
    "plt.plot(epochs, wave_acc.mean(-1), color='green', label=\"WavenetNRI\")\n",
    "plt.fill_between(epochs, wave_acc.mean(-1)-wave_acc.std(-1), \n",
    "                wave_acc.mean(-1)+wave_acc.std(-1), color='green', alpha=0.3)\n",
    "\n",
    "plt.legend()\n",
    "\n",
    "plt.ylim([0,1])\n",
    "\n",
    "plt.xlabel(\"epoch\")\n",
    "plt.ylabel(\"Edge Accuracy\")\n",
    "\n",
    "plt.savefig(\"figures/nriwave_sim6_acc.pdf\")\n",
    "\n",
    "#plt.title(\"Accuracy\")\n",
    "\n",
    "plt.show()"
   ]
  },
  {
   "cell_type": "code",
   "execution_count": null,
   "id": "05ae69b5",
   "metadata": {},
   "outputs": [],
   "source": []
  }
 ],
 "metadata": {
  "kernelspec": {
   "display_name": "Python 3 (ipykernel)",
   "language": "python",
   "name": "python3"
  },
  "language_info": {
   "codemirror_mode": {
    "name": "ipython",
    "version": 3
   },
   "file_extension": ".py",
   "mimetype": "text/x-python",
   "name": "python",
   "nbconvert_exporter": "python",
   "pygments_lexer": "ipython3",
   "version": "3.8.12"
  }
 },
 "nbformat": 4,
 "nbformat_minor": 5
}
